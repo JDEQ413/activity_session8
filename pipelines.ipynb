{
 "cells": [
  {
   "cell_type": "markdown",
   "metadata": {},
   "source": [
    "# Setup\n",
    "\n",
    "In this notebook section, we will import the libraries needed to run this code."
   ]
  },
  {
   "cell_type": "code",
   "execution_count": 1,
   "metadata": {},
   "outputs": [
    {
     "name": "stdout",
     "output_type": "stream",
     "text": [
      "Requirement already satisfied: pandas in c:\\users\\usuario\\documents\\github\\activity_session8\\venv310\\lib\\site-packages (1.4.4)\n",
      "Requirement already satisfied: scikit-learn in c:\\users\\usuario\\documents\\github\\activity_session8\\venv310\\lib\\site-packages (1.1.0)\n",
      "Requirement already satisfied: python-dateutil>=2.8.1 in c:\\users\\usuario\\documents\\github\\activity_session8\\venv310\\lib\\site-packages (from pandas) (2.8.2)\n",
      "Requirement already satisfied: pytz>=2020.1 in c:\\users\\usuario\\documents\\github\\activity_session8\\venv310\\lib\\site-packages (from pandas) (2023.3)\n",
      "Requirement already satisfied: numpy>=1.21.0 in c:\\users\\usuario\\documents\\github\\activity_session8\\venv310\\lib\\site-packages (from pandas) (1.25.2)\n",
      "Requirement already satisfied: scipy>=1.3.2 in c:\\users\\usuario\\documents\\github\\activity_session8\\venv310\\lib\\site-packages (from scikit-learn) (1.11.2)\n",
      "Requirement already satisfied: joblib>=1.0.0 in c:\\users\\usuario\\documents\\github\\activity_session8\\venv310\\lib\\site-packages (from scikit-learn) (1.3.1)\n",
      "Requirement already satisfied: threadpoolctl>=2.0.0 in c:\\users\\usuario\\documents\\github\\activity_session8\\venv310\\lib\\site-packages (from scikit-learn) (3.2.0)\n",
      "Requirement already satisfied: six>=1.5 in c:\\users\\usuario\\documents\\github\\activity_session8\\venv310\\lib\\site-packages (from python-dateutil>=2.8.1->pandas) (1.16.0)\n"
     ]
    }
   ],
   "source": [
    "!pip install pandas scikit-learn"
   ]
  },
  {
   "cell_type": "code",
   "execution_count": 2,
   "metadata": {},
   "outputs": [],
   "source": [
    "import pandas as pd\n",
    "from sklearn.base import BaseEstimator, TransformerMixin\n",
    "from sklearn.model_selection import train_test_split\n",
    "from sklearn.pipeline import Pipeline\n",
    "from sklearn.compose import ColumnTransformer\n",
    "from sklearn.preprocessing import StandardScaler, OneHotEncoder\n",
    "from sklearn.svm import SVC\n",
    "from sklearn.metrics import accuracy_score"
   ]
  },
  {
   "cell_type": "markdown",
   "metadata": {},
   "source": [
    "# Constants\n",
    "\n",
    "In this section all constants are defined"
   ]
  },
  {
   "cell_type": "code",
   "execution_count": null,
   "metadata": {},
   "outputs": [],
   "source": [
    "numeric_features = ['pclass', 'age', 'sibsp', 'parch', 'fare']\n",
    "categorical_features = ['sex', 'embarked', 'title']"
   ]
  },
  {
   "cell_type": "markdown",
   "metadata": {},
   "source": [
    "# Custom Transformers\n",
    "\n",
    "Define custom transformers in this section"
   ]
  },
  {
   "cell_type": "code",
   "execution_count": 8,
   "metadata": {},
   "outputs": [],
   "source": [
    "class DataFrameSelector(BaseEstimator, TransformerMixin):\n",
    "    def __init__(self, attribute_names):\n",
    "        self.attribute_names = attribute_names\n",
    "    def fit(self, X, y=None):\n",
    "        #print(self.attribute_names)\n",
    "        return self\n",
    "    def transform(self, X):\n",
    "        return X[self.attribute_names]\n",
    "\n",
    "class MostFrequentImputer(BaseEstimator, TransformerMixin):\n",
    "    def fit(self, X, y=None):\n",
    "        self.most_frequent_ = pd.Series([X[c].value_counts().index[0] for c in X],\n",
    "                                        index=X.columns)\n",
    "        #print(self.most_frequent_)\n",
    "        return self\n",
    "    def transform(self, X, y=None):\n",
    "        X = X.copy()\n",
    "        for col in X.columns:\n",
    "            X[col] = X[col].fillna(self.most_frequent_[col])\n",
    "        return X\n",
    "\n",
    "class StandardScalerTransformer(BaseEstimator, TransformerMixin):\n",
    "    def fit(self, X, y=None):\n",
    "        self.features = X.columns\n",
    "        return self\n",
    "    def transform(self, X, y=None):\n",
    "        standard_scaler = StandardScaler()\n",
    "        X = X.copy()\n",
    "        X_transformed = pd.DataFrame(standard_scaler.fit_transform(X[self.features]), columns = self.features)\n",
    "        return X_transformed\n",
    "\n",
    "#df_feat_selector = DataFrameSelector(numeric_features)\n",
    "#df_feat_selector.fit(titanic_data)\n",
    "#data_pipe1 = df_feat_selector.transform(titanic_data)\n",
    "#data_pipe1.info()\n",
    "\n",
    "#mostfrequent_imputer = MostFrequentImputer()\n",
    "#mostfrequent_imputer.fit(data_pipe1)\n",
    "#data_pipe2 = mostfrequent_imputer.transform(data_pipe1)\n",
    "#data_pipe2.info()\n",
    "\n",
    "#standardscaler_transformer = StandardScalerTransformer()\n",
    "#standardscaler_transformer.fit(data_pipe2)\n",
    "#data_pipe3 = standardscaler_transformer.transform(data_pipe2)\n",
    "#data_pipe3\n",
    "\n",
    "\n",
    "class OneHotEncoder(BaseEstimator, TransformerMixin):\n",
    "    def __init__(self, variables=None):\n",
    "        self.variables = [variables] if not isinstance(variables, list) else variables\n",
    "\n",
    "    def fit(self, X, y=None):\n",
    "        self.dummies = pd.get_dummies(X[self.variables], drop_first=True).columns\n",
    "        return self\n",
    "\n",
    "    def transform(self, X):\n",
    "        X = X.copy()\n",
    "        X = pd.concat([X, pd.get_dummies(X[self.variables], drop_first=True)], axis=1)\n",
    "        X.drop(self.variables, axis=1)\n",
    "\n",
    "        # Adding missing dummies, if any\n",
    "        missing_dummies = [var for var in self.dummies if var not in X.columns]\n",
    "        if len(missing_dummies) != 0:\n",
    "            for col in missing_dummies:\n",
    "                X[col] = 0\n",
    "\n",
    "        return X\n",
    "\n",
    "#print(categorical_features)\n",
    "#one_encoder = OneHotEncoder(variables=categorical_features)\n",
    "#one_encoder.fit(titanic_data)\n",
    "#aux = one_encoder.transform(titanic_data)\n",
    "#aux"
   ]
  },
  {
   "cell_type": "code",
   "execution_count": null,
   "metadata": {},
   "outputs": [],
   "source": []
  },
  {
   "cell_type": "markdown",
   "metadata": {},
   "source": [
    "# Pipeline"
   ]
  },
  {
   "cell_type": "code",
   "execution_count": 23,
   "metadata": {},
   "outputs": [],
   "source": [
    "# Load the dataset\n",
    "\n",
    "titanic_data = pd.read_csv('raw-data.csv')\n",
    "# print(titanic_data.head())\n",
    "# print()\n",
    "# titanic_data.info()"
   ]
  },
  {
   "cell_type": "code",
   "execution_count": 13,
   "metadata": {},
   "outputs": [],
   "source": [
    "numeric_pipeline = Pipeline([\n",
    "    ('selector', DataFrameSelector(numeric_features)),\n",
    "    ('imputer', MostFrequentImputer()),\n",
    "    ('scaler', StandardScalerTransformer())\n",
    "])\n",
    "\n",
    "categorical_pipeline = Pipeline([\n",
    "    ('selector', DataFrameSelector(categorical_features)),\n",
    "    ('imputer', MostFrequentImputer()),\n",
    "    ('encoder', OneHotEncoder(categorical_features))\n",
    "])"
   ]
  },
  {
   "cell_type": "code",
   "execution_count": 24,
   "metadata": {},
   "outputs": [],
   "source": [
    "preprocessor = ColumnTransformer(\n",
    "    transformers=[\n",
    "        ('numeric', numeric_pipeline, numeric_features),\n",
    "        ('categorical', categorical_pipeline, categorical_features)\n",
    "    ],\n",
    "    remainder='passthrough'  # Allows to preserve remaining columns in the output\n",
    ")"
   ]
  },
  {
   "cell_type": "code",
   "execution_count": 2,
   "metadata": {},
   "outputs": [
    {
     "ename": "SyntaxError",
     "evalue": "invalid syntax (2477466498.py, line 39)",
     "output_type": "error",
     "traceback": [
      "\u001b[1;36m  Cell \u001b[1;32mIn[2], line 39\u001b[1;36m\u001b[0m\n\u001b[1;33m    ('selector', `ADD HERE YOUR CODE`),\u001b[0m\n\u001b[1;37m                 ^\u001b[0m\n\u001b[1;31mSyntaxError\u001b[0m\u001b[1;31m:\u001b[0m invalid syntax\n"
     ]
    }
   ],
   "source": [
    "pipeline = Pipeline([\n",
    "    # TODO: Add here the preprocessor and a SVC trainer\n",
    "    ('preprocessor', `ADD HERE YOUR CODE`),\n",
    "    ('classifier', `ADD HERE YOUR CODE`)\n",
    "])\n",
    "\n",
    "# Separate features (X) and target (y)\n",
    "X = titanic_data.drop(['survived', 'cabin'], axis=1)  # Exclude 'cabin' column\n",
    "y = titanic_data['survived']\n",
    "\n",
    "# Split the data into training and testing sets\n",
    "X_train, X_test, y_train, y_test = train_test_split(X, y, test_size=0.2, random_state=42)\n",
    "\n",
    "# Fit the pipeline on the training data\n",
    "pipeline.fit(X_train, y_train)\n",
    "\n",
    "# Transform the training and testing data\n",
    "X_train_transformed = pipeline.named_steps['preprocessor'].transform(X_train)\n",
    "X_test_transformed = pipeline.named_steps['preprocessor'].transform(X_test)\n",
    "\n",
    "# Transform the testing data\n",
    "X_test_transformed = pipeline.named_steps['preprocessor'].transform(X_test)\n",
    "\n",
    "# Use the trained classifier to make predictions\n",
    "y_pred = pipeline.named_steps['classifier'].predict(X_test_transformed)\n",
    "\n",
    "# Comparing y_pred with y_test to evaluate the predictions\n",
    "\n",
    "\n",
    "accuracy = accuracy_score(y_test, y_pred)\n",
    "print(\"Accuracy:\", accuracy)"
   ]
  }
 ],
 "metadata": {
  "kernelspec": {
   "display_name": ".venv",
   "language": "python",
   "name": "python3"
  },
  "language_info": {
   "codemirror_mode": {
    "name": "ipython",
    "version": 3
   },
   "file_extension": ".py",
   "mimetype": "text/x-python",
   "name": "python",
   "nbconvert_exporter": "python",
   "pygments_lexer": "ipython3",
   "version": "3.10.9"
  },
  "orig_nbformat": 4
 },
 "nbformat": 4,
 "nbformat_minor": 2
}
